{
 "cells": [
  {
   "cell_type": "markdown",
   "metadata": {},
   "source": [
    "## Feature Selection"
   ]
  },
  {
   "cell_type": "code",
   "execution_count": 5,
   "metadata": {},
   "outputs": [],
   "source": [
    "import pandas as pd\n",
    "import numpy as np\n",
    "from statsmodels.tsa.stattools import adfuller\n",
    "import matplotlib.pyplot as plt\n",
    "from sklearn.linear_model import ElasticNet\n",
    "from sklearn.preprocessing import StandardScaler"
   ]
  },
  {
   "cell_type": "code",
   "execution_count": 8,
   "metadata": {},
   "outputs": [],
   "source": [
    "# Import dataframe \n",
    "\n",
    "df = pd.read_csv('/Users/gabeheim/documents/repos/bender/source files/cap1_df.csv', index_col='time')"
   ]
  },
  {
   "cell_type": "code",
   "execution_count": 9,
   "metadata": {},
   "outputs": [],
   "source": [
    "# Standardize the data\n",
    "\n",
    "sc_x = StandardScaler()\n",
    "df_scaled = pd.DataFrame(sc_x.fit_transform(df), index=df.index, columns=df.columns)"
   ]
  },
  {
   "cell_type": "code",
   "execution_count": 10,
   "metadata": {},
   "outputs": [],
   "source": [
    "# Perfrom differencing to stationalize the series\n",
    "\n",
    "# Creat difference function, with default value of lag 24\n",
    "def difference(dataset, interval=24):\n",
    "    diff = list()\n",
    "    for i in range(interval, len(dataset)):\n",
    "        value = dataset[i] - dataset[i - interval]\n",
    "        diff.append(value)\n",
    "    return diff\n",
    "\n",
    "# Differencing the dataset\n",
    "inter_d = 24\n",
    "df_diff = pd.DataFrame(index=df.index)\n",
    "for i in df.columns:\n",
    "    data = difference(df_scaled[i], inter_d)\n",
    "    data = pd.Series(np.append(np.repeat(np.nan, inter_d), data), index=df.index, name=i)\n",
    "    df_diff = pd.concat([df_diff, data], ignore_index=False, axis=1)\n"
   ]
  },
  {
   "cell_type": "code",
   "execution_count": 11,
   "metadata": {},
   "outputs": [
    {
     "name": "stdout",
     "output_type": "stream",
     "text": [
      "\u001b[1mXEM\u001b[0m\n",
      "ADF Statistic: -6.8347645152100895\n",
      "p-value: 1.8546167699788319e-09\n",
      "\u001b[1mIOT\u001b[0m\n",
      "ADF Statistic: -5.9849987706163965\n",
      "p-value: 1.8009544435952284e-07\n",
      "\u001b[1mamd\u001b[0m\n",
      "ADF Statistic: -5.020269791994407\n",
      "p-value: 2.023192354839968e-05\n",
      "\u001b[1mnvda\u001b[0m\n",
      "ADF Statistic: -5.495891001501147\n",
      "p-value: 2.1239443581496083e-06\n",
      "\u001b[1mmc_iota\u001b[0m\n",
      "ADF Statistic: -5.684332592443915\n",
      "p-value: 8.346295935374271e-07\n",
      "\u001b[1mmc_nem\u001b[0m\n",
      "ADF Statistic: -5.9125369923810025\n",
      "p-value: 2.6182678885683667e-07\n",
      "\u001b[1mgg_crypto\u001b[0m\n",
      "ADF Statistic: -5.644299288447219\n",
      "p-value: 1.0196718079380073e-06\n",
      "\u001b[1mgg_nem_p\u001b[0m\n",
      "ADF Statistic: -6.939243555123052\n",
      "p-value: 1.0353170023035572e-09\n",
      "\u001b[1mgg_iota_p\u001b[0m\n",
      "ADF Statistic: -6.958625671192854\n",
      "p-value: 9.288088478212726e-10\n",
      "\u001b[1mgg_bitcoin_p\u001b[0m\n",
      "ADF Statistic: -6.0930336491202235\n",
      "p-value: 1.0255751681973199e-07\n",
      "\u001b[1mgg_nem_w\u001b[0m\n",
      "ADF Statistic: -7.028064921450798\n",
      "p-value: 6.288873084549656e-10\n",
      "\u001b[1mgg_iota_w\u001b[0m\n",
      "ADF Statistic: -6.465079412079976\n",
      "p-value: 1.4118279708128427e-08\n",
      "\u001b[1mgg_gpu\u001b[0m\n",
      "ADF Statistic: -5.408638494228449\n",
      "p-value: 3.248531026331344e-06\n",
      "\u001b[1mrd_CrypCurr_g\u001b[0m\n",
      "ADF Statistic: -6.1637594843356185\n",
      "p-value: 7.070888932401112e-08\n",
      "\u001b[1mrd_nem_g\u001b[0m\n",
      "ADF Statistic: -6.99687466120986\n",
      "p-value: 7.494221468754133e-10\n",
      "\u001b[1mrd_Iota_g\u001b[0m\n",
      "ADF Statistic: -5.993646969599646\n",
      "p-value: 1.721969677076012e-07\n"
     ]
    }
   ],
   "source": [
    "# Perform Dickey-fuller test to test the differenced series for stationality\n",
    "\n",
    "diff = df_diff.dropna()\n",
    "\n",
    "for i in diff.columns: \n",
    "    x = diff[i].values\n",
    "    result = adfuller(x)\n",
    "    print('\\033[1m' + i + '\\033[0m')\n",
    "    print('ADF Statistic:', result[0])\n",
    "    print('p-value:', result[1])"
   ]
  },
  {
   "cell_type": "code",
   "execution_count": 14,
   "metadata": {},
   "outputs": [],
   "source": [
    "# Splitting data to test/train sets\n",
    "\n",
    "X = diff[['IOT', 'amd', 'nvda', 'gg_crypto','gg_nem_p', 'gg_iota_p', 'gg_bitcoin_p', 'gg_nem_w', 'gg_iota_w','gg_gpu', 'rd_CrypCurr_g', 'rd_nem_g', 'rd_Iota_g']]\n",
    "#not using marketcap data!!\n",
    "Ytrain = pd.DataFrame(diff[:1310]['XEM'])\n",
    "Ytest = pd.DataFrame(diff[1310:]['XEM'])"
   ]
  },
  {
   "cell_type": "code",
   "execution_count": 15,
   "metadata": {},
   "outputs": [
    {
     "name": "stdout",
     "output_type": "stream",
     "text": [
      "IOT : 0.22404955263827642\n",
      "amd : 0.0\n",
      "nvda : 0.0\n",
      "gg_crypto : -0.034198443750487736\n",
      "gg_nem_p : 0.0\n",
      "gg_iota_p : -0.0\n",
      "gg_bitcoin_p : -0.0\n",
      "gg_nem_w : 0.04550451889245516\n",
      "gg_iota_w : -0.0\n",
      "gg_gpu : 0.0\n",
      "rd_CrypCurr_g : -0.0\n",
      "rd_nem_g : 0.0\n",
      "rd_Iota_g : 0.0\n"
     ]
    }
   ],
   "source": [
    "# Performing ElasticNet Regression \n",
    "\n",
    "en = ElasticNet(alpha=0.1, normalize=False)\n",
    "en.fit(X[:1310], Ytrain)\n",
    "coef = list(en.coef_)\n",
    "count = 0\n",
    "for i in X.columns:\n",
    "    print(i, ':', coef[count])\n",
    "    count = count + 1"
   ]
  },
  {
   "cell_type": "code",
   "execution_count": 16,
   "metadata": {},
   "outputs": [],
   "source": [
    "# Based on the ElasticNet results, manually identifying selected features (features with non-zero coefficients)\n",
    "\n",
    "sig = ['IOT', 'gg_crypto', 'gg_nem_w']\n",
    "#sig = ['IOT', 'amd', 'nvda', 'gg_crypto','gg_nem_p', 'gg_iota_p', 'gg_bitcoin_p', 'gg_nem_w', 'gg_iota_w','gg_gpu', 'rd_CrypCurr_g', 'rd_nem_g', 'rd_Iota_g']"
   ]
  },
  {
   "cell_type": "code",
   "execution_count": 17,
   "metadata": {},
   "outputs": [],
   "source": [
    "# Constructing dataframe\n",
    "\n",
    "X_sig = pd.DataFrame(index=X.index, columns=[sig])\n",
    "for i in sig:\n",
    "    X_sig[i] = X[i]\n",
    "    count = count + 1\n",
    "\n",
    "# Save dataframe\n",
    "X_sig[:1310].to_csv('X_train.csv')\n",
    "X_sig[1310:].to_csv('X_test.csv')\n",
    "Ytrain.to_csv('Y_train.csv')\n",
    "Ytest.to_csv('Y_test.csv')"
   ]
  },
  {
   "cell_type": "markdown",
   "metadata": {
    "collapsed": true
   },
   "source": [
    "### Conclusions: \n",
    "We performed ElasticNet regularization on all 13 predictors. Then, we selected 3 predictors with non-zero coefficents for our model. "
   ]
  },
  {
   "cell_type": "code",
   "execution_count": null,
   "metadata": {
    "collapsed": true
   },
   "outputs": [],
   "source": []
  }
 ],
 "metadata": {
  "kernelspec": {
   "display_name": "Python 3",
   "language": "python",
   "name": "python3"
  },
  "language_info": {
   "codemirror_mode": {
    "name": "ipython",
    "version": 3
   },
   "file_extension": ".py",
   "mimetype": "text/x-python",
   "name": "python",
   "nbconvert_exporter": "python",
   "pygments_lexer": "ipython3",
   "version": "3.6.4"
  }
 },
 "nbformat": 4,
 "nbformat_minor": 2
}
